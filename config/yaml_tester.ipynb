{
 "cells": [
  {
   "cell_type": "code",
   "execution_count": 1,
   "id": "numeric-psychology",
   "metadata": {},
   "outputs": [],
   "source": [
    "import torch\n",
    "import torch.nn as nn\n",
    "\n",
    "import yaml\n",
    "import os"
   ]
  },
  {
   "cell_type": "code",
   "execution_count": 2,
   "id": "eight-andrews",
   "metadata": {},
   "outputs": [],
   "source": [
    "demo_dir = 'demo'\n",
    "edsr_liif_dir = 'train_edsr-baseline-liif.yaml'\n",
    "edsr_x2_dir = 'train_edsr-baseline-x2.yaml'\n",
    "\n",
    "config1 = os.path.join(demo_dir, edsr_liif_dir)\n",
    "config2 = os.path.join(demo_dir, edsr_x2_dir)"
   ]
  },
  {
   "cell_type": "code",
   "execution_count": 3,
   "id": "deadly-wrist",
   "metadata": {},
   "outputs": [
    {
     "name": "stdout",
     "output_type": "stream",
     "text": [
      "{'liif': <class '__main__.LIIF'>, 'edsr': <function make_edsr at 0x7f4ab358edc0>, 'edsr-baseline': <function make_edsr_baseline at 0x7f4ab358ef70>}\n"
     ]
    }
   ],
   "source": [
    "models = {}\n",
    "\n",
    "\n",
    "def register(name):\n",
    "    def decorator(cls):\n",
    "        models[name] = cls\n",
    "        return cls\n",
    "    return decorator\n",
    "\n",
    "@register('liif')\n",
    "class LIIF(nn.Module):\n",
    "    def __init__(self):\n",
    "        super().__init__()\n",
    "\n",
    "    def forward(self, x):\n",
    "        return x\n",
    "\n",
    "\n",
    "@register('edsr')\n",
    "def make_edsr():\n",
    "    return 0\n",
    "\n",
    "\n",
    "@register('edsr-baseline')\n",
    "def make_edsr_baseline():\n",
    "    return 'aaaaa'\n",
    "\n",
    "print(models)"
   ]
  },
  {
   "cell_type": "code",
   "execution_count": 17,
   "id": "present-israeli",
   "metadata": {},
   "outputs": [
    {
     "name": "stdout",
     "output_type": "stream",
     "text": [
      "5.3.1\n",
      "config loaded\n"
     ]
    }
   ],
   "source": [
    "with open(config1, 'r') as f:\n",
    "    print(yaml.__version__)\n",
    "    conf1 = yaml.load(f, Loader=yaml.FullLoader)\n",
    "    print('config loaded')"
   ]
  },
  {
   "cell_type": "code",
   "execution_count": 18,
   "id": "widespread-sensitivity",
   "metadata": {},
   "outputs": [
    {
     "name": "stdout",
     "output_type": "stream",
     "text": [
      "train_loader: {'dataset': {'name': 'image-folder', 'args': {'root_path': './load/div2k/DIV2K_train_HR', 'repeat': 20, 'cache': 'in_memory'}}, 'wrapper': {'name': 'sr-implicit-downsampled', 'args': {'inp_size': 48, 'scale_max': 4, 'augment': True, 'sample_q': 2304}}, 'batch_size': 16}\n",
      "\n",
      "val_loader: {'dataset': {'name': 'image-folder', 'args': {'root_path': './load/div2k/DIV2K_valid_HR', 'first_k': 10, 'repeat': 160, 'cache': 'in_memory'}}, 'wrapper': {'name': 'sr-implicit-downsampled', 'args': {'inp_size': 48, 'scale_max': 4, 'sample_q': 2304}}, 'batch_size': 16}\n",
      "\n"
     ]
    }
   ],
   "source": [
    "train_loader = conf1.get('train_dataset')\n",
    "val_loader = conf1.get('val_dataset')\n",
    "\n",
    "print(\"train_loader: {}\\n\".format(train_loader))\n",
    "print(\"val_loader: {}\\n\".format(val_loader))"
   ]
  },
  {
   "cell_type": "code",
   "execution_count": 19,
   "id": "technical-testimony",
   "metadata": {},
   "outputs": [],
   "source": [
    "def make(model_spec, args=None, load_sd=False):\n",
    "    if args is not None:\n",
    "        model_args = copy.deepcopy(model_spec['args'])\n",
    "        model_args.update(args)\n",
    "    else:\n",
    "        model_args = model_spec['args']\n",
    "    model = models[model_spec['name']](**model_args)\n",
    "    if load_sd:\n",
    "        model.load_state_dict(model_spec['sd'])\n",
    "    return model"
   ]
  },
  {
   "cell_type": "code",
   "execution_count": 22,
   "id": "integral-editing",
   "metadata": {},
   "outputs": [
    {
     "name": "stdout",
     "output_type": "stream",
     "text": [
      "model: {'name': 'liif', 'args': {'encoder_spec': {'name': 'edsr-baseline', 'args': {'no_upsampling': True}}, 'imnet_spec': {'name': 'mlp', 'args': {'out_dim': 3, 'hidden_list': [256, 256, 256, 256]}}}}\n",
      "\n",
      "model_args: {'encoder_spec': {'name': 'edsr-baseline', 'args': {'no_upsampling': True}}, 'imnet_spec': {'name': 'mlp', 'args': {'out_dim': 3, 'hidden_list': [256, 256, 256, 256]}}}\n"
     ]
    }
   ],
   "source": [
    "conf1_model = conf1['model']\n",
    "print(\"model: {}\\n\".format(conf1_model))\n",
    "\n",
    "# loaded_model = make(conf1_model)\n",
    "\n",
    "# model_args = copy.deepcopy(conf1_model['args'])\n",
    "# model_args.update(args)\n",
    "\n",
    "model_args = conf1_model['args']\n",
    "print(\"model_args: {}\".format(model_args))\n",
    "# looks into dictionary with argument\n",
    "model = models[conf1_model['name']]"
   ]
  },
  {
   "cell_type": "code",
   "execution_count": null,
   "id": "material-liverpool",
   "metadata": {},
   "outputs": [],
   "source": []
  }
 ],
 "metadata": {
  "kernelspec": {
   "display_name": "Python 3",
   "language": "python",
   "name": "python3"
  },
  "language_info": {
   "codemirror_mode": {
    "name": "ipython",
    "version": 3
   },
   "file_extension": ".py",
   "mimetype": "text/x-python",
   "name": "python",
   "nbconvert_exporter": "python",
   "pygments_lexer": "ipython3",
   "version": "3.8.0"
  }
 },
 "nbformat": 4,
 "nbformat_minor": 5
}
